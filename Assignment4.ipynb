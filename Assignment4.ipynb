{
 "cells": [
  {
   "cell_type": "code",
   "execution_count": 16,
   "metadata": {},
   "outputs": [
    {
     "name": "stdout",
     "output_type": "stream",
     "text": [
      "['A', 'B', 'C', 'D', 'E', 'F', 'G', 'H', 'I', 'J', 'K', 'L', 'M', 'N', 'O', 'P', 'Q', 'R', 'S', 'T', 'U', 'V', 'W', 'X', 'Y', 'Z'] ['a', 'b', 'c', 'd', 'e', 'f', 'g', 'h', 'i', 'j', 'k', 'l', 'm', 'n', 'o', 'p', 'q', 'r', 's', 't', 'u', 'v', 'w', 'x', 'y', 'z'] ['0', '1', '2', '3', '4', '5', '6', '7', '8', '9']\n"
     ]
    }
   ],
   "source": [
    "l1=[]\n",
    "l2=[]\n",
    "l3=[]\n",
    "for i in range(65,91):\n",
    "    l1.append(chr(i))\n",
    "for i in range(97,123):\n",
    "    l2.append(chr(i))\n",
    "for i in range(48,58):\n",
    "    l3.append(chr(i))\n",
    "    #for j in range(97,123):\n",
    "       # print(chr(i))\n",
    "print(l1,l2,l3)"
   ]
  },
  {
   "cell_type": "code",
   "execution_count": 18,
   "metadata": {},
   "outputs": [
    {
     "name": "stdout",
     "output_type": "stream",
     "text": [
      "(0, 1, 5) \n",
      "(1, 2, 10) \n",
      "(2, 0, 20) (2, 1, 30) \n",
      "(3, 0, 35) (3, 2, 20) \n"
     ]
    }
   ],
   "source": [
    "l= [[2,5,9],\n",
    "    [8,9,10],\n",
    "    [20,30,27],\n",
    "    [35,9,20]]\n",
    "\n",
    "for ri, r in enumerate(l):\n",
    "    for ci,c in enumerate(r):\n",
    "        if c % 5 == 0:\n",
    "            print((ri,ci,c), end=\" \")\n",
    "    print()"
   ]
  },
  {
   "cell_type": "code",
   "execution_count": 17,
   "metadata": {},
   "outputs": [
    {
     "name": "stdout",
     "output_type": "stream",
     "text": [
      "1\n",
      "2\n",
      "3\n",
      "1 x 1 = 1 \t 2 x 1 = 2 \t 3 x 1 = 3\n",
      "1 x 2 = 2 \t 2 x 2 = 4 \t 3 x 2 = 6\n",
      "1 x 3 = 3 \t 2 x 3 = 6 \t 3 x 3 = 9\n",
      "1 x 4 = 4 \t 2 x 4 = 8 \t 3 x 4 = 12\n",
      "1 x 5 = 5 \t 2 x 5 = 10 \t 3 x 5 = 15\n",
      "1 x 6 = 6 \t 2 x 6 = 12 \t 3 x 6 = 18\n",
      "1 x 7 = 7 \t 2 x 7 = 14 \t 3 x 7 = 21\n",
      "1 x 8 = 8 \t 2 x 8 = 16 \t 3 x 8 = 24\n",
      "1 x 9 = 9 \t 2 x 9 = 18 \t 3 x 9 = 27\n",
      "1 x 10 = 10 \t 2 x 10 = 20 \t 3 x 10 = 30\n"
     ]
    }
   ],
   "source": [
    "num1=int(input())\n",
    "num2=int(input())\n",
    "num3=int(input())\n",
    "# To take input from the user\n",
    "# num = int(input(\"Display multiplication table of? \"))\n",
    "# Iterate 10 times from i = 1 to 10\n",
    "for i in range(1, 11):\n",
    "   print(num1, 'x', i, '=', num1*i,'\\t',num2, 'x', i, '=', num2*i,'\\t',num3, 'x', i, '=', num3*i)"
   ]
  },
  {
   "cell_type": "code",
   "execution_count": 1,
   "metadata": {},
   "outputs": [
    {
     "name": "stdout",
     "output_type": "stream",
     "text": [
      "Enter Name:Hassan\n",
      "Enter Roll no:535588\n",
      "Enter University:FAST\n",
      "do you want to continue:no\n",
      "['Hassan', '535588', 'FAST']\n"
     ]
    }
   ],
   "source": [
    "l1=[]\n",
    "val='yes'\n",
    "while val!= 'no':\n",
    "    v1=input(\"Enter Name:\")\n",
    "    v2=input(\"Enter Roll no:\")\n",
    "    v3=input(\"Enter University:\")\n",
    "    l1.append(v1)\n",
    "    l1.append(v2)\n",
    "    l1.append(v3)\n",
    "    val=input(\"do you want to continue:\")\n",
    "print(l1)"
   ]
  },
  {
   "cell_type": "code",
   "execution_count": 20,
   "metadata": {},
   "outputs": [
    {
     "name": "stdout",
     "output_type": "stream",
     "text": [
      "Who took the initiative?:Friend\n",
      "That Advertising\n"
     ]
    }
   ],
   "source": [
    "initiative= input(\"Who took the initiative?:\")\n",
    "rich= True\n",
    "slap = False\n",
    "point_at_you=True\n",
    "wife= True\n",
    "if initiative == 'you':\n",
    "    if rich==True and slap== True:\n",
    "        print(\"customer Feedback\")\n",
    "    elif rich==True and slap== False:\n",
    "        print(\"Direct marketing\")\n",
    "    elif husband ==True:\n",
    "        print (\"demand Supply\")\n",
    "    elif wife ==True:\n",
    "        print (\"Restriction\")\n",
    "elif initiative=='Friend':\n",
    "    if (point_at_you== True and rich== True):\n",
    "        print(\"That Advertising\")\n",
    "elif initiative=='girl':\n",
    "    if (rich== True):\n",
    "        print(\"Brand Recognization\")\n",
    "    "
   ]
  },
  {
   "cell_type": "code",
   "execution_count": null,
   "metadata": {},
   "outputs": [],
   "source": []
  }
 ],
 "metadata": {
  "kernelspec": {
   "display_name": "Python 3",
   "language": "python",
   "name": "python3"
  },
  "language_info": {
   "codemirror_mode": {
    "name": "ipython",
    "version": 3
   },
   "file_extension": ".py",
   "mimetype": "text/x-python",
   "name": "python",
   "nbconvert_exporter": "python",
   "pygments_lexer": "ipython3",
   "version": "3.7.4"
  }
 },
 "nbformat": 4,
 "nbformat_minor": 2
}
