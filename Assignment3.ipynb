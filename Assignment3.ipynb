{
 "cells": [
  {
   "cell_type": "markdown",
   "metadata": {},
   "source": [
    "# Assignment 3\n",
    "\n",
    "### Hassan Imtiaz\n",
    "### PIAIC53558"
   ]
  },
  {
   "cell_type": "code",
   "execution_count": 4,
   "metadata": {},
   "outputs": [
    {
     "name": "stdout",
     "output_type": "stream",
     "text": [
      "Enter key:12\n",
      "Enter key-value:34\n"
     ]
    },
    {
     "data": {
      "text/plain": [
       "{12: '34'}"
      ]
     },
     "execution_count": 4,
     "metadata": {},
     "output_type": "execute_result"
    }
   ],
   "source": [
    "#Python Program to Add a Key-Value Pair to the Dictionary\n",
    "d1={}\n",
    "key1=int(input(\"Enter key:\"))\n",
    "value=input(\"Enter key-value:\")\n",
    "d1.update({key1:value})\n",
    "d1"
   ]
  },
  {
   "cell_type": "code",
   "execution_count": 5,
   "metadata": {},
   "outputs": [
    {
     "name": "stdout",
     "output_type": "stream",
     "text": [
      "Enter key:34\n",
      "Enter key-value:29\n"
     ]
    },
    {
     "data": {
      "text/plain": [
       "{34: '29'}"
      ]
     },
     "execution_count": 5,
     "metadata": {},
     "output_type": "execute_result"
    }
   ],
   "source": [
    "d1={}\n",
    "key1=int(input(\"Enter key:\"))\n",
    "value=input(\"Enter key-value:\")\n",
    "d1.update({key1:value})\n",
    "d1"
   ]
  },
  {
   "cell_type": "code",
   "execution_count": 7,
   "metadata": {},
   "outputs": [
    {
     "data": {
      "text/plain": [
       "{'A': 1, 'C': 3, 'B': 2}"
      ]
     },
     "execution_count": 7,
     "metadata": {},
     "output_type": "execute_result"
    }
   ],
   "source": [
    "#Python Program to Concatenate Two Dictionaries Into One\n",
    "d1={'A': 1, 'C': 3}\n",
    "d2={'B': 2}\n",
    "d1.update(d2)\n",
    "d1"
   ]
  },
  {
   "cell_type": "code",
   "execution_count": 9,
   "metadata": {},
   "outputs": [
    {
     "name": "stdout",
     "output_type": "stream",
     "text": [
      "Enter key:A\n",
      "1\n"
     ]
    }
   ],
   "source": [
    "#Python Program to Check if a Given Key Exists in a Dictionary or Not\n",
    "d1={'A': 1, 'C': 3,'B': 2}\n",
    "k1=input(\"Enter key:\")\n",
    "if k1 in d1.keys():\n",
    "    print (d1[k1])\n",
    "else:\n",
    "    print(\"key not present in dictionary\")"
   ]
  },
  {
   "cell_type": "code",
   "execution_count": 10,
   "metadata": {},
   "outputs": [
    {
     "name": "stdout",
     "output_type": "stream",
     "text": [
      "Enter key:F\n",
      "key not present in dictionary\n"
     ]
    }
   ],
   "source": [
    "d1={'A': 1, 'C': 3,'B': 2}\n",
    "k1=input(\"Enter key:\")\n",
    "if k1 in d1.keys():\n",
    "    print (d1[k1])\n",
    "else:\n",
    "    print(\"key not present in dictionary\")"
   ]
  },
  {
   "cell_type": "code",
   "execution_count": 15,
   "metadata": {},
   "outputs": [
    {
     "name": "stdout",
     "output_type": "stream",
     "text": [
      "Enter key:5\n",
      "{1: 1, 2: 4, 3: 9, 4: 16, 5: 25}\n"
     ]
    }
   ],
   "source": [
    "#Python Program to Generate a Dictionary that Contains Numbers (between 1 and n) in the Form (x,x*x).\n",
    "k1=int(input(\"Enter key:\"))\n",
    "d1={x:x*x for x in range (1,k1+1)}\n",
    "print(d1)"
   ]
  },
  {
   "cell_type": "code",
   "execution_count": 16,
   "metadata": {},
   "outputs": [
    {
     "name": "stdout",
     "output_type": "stream",
     "text": [
      "Enter key:19\n",
      "{1: 1, 2: 4, 3: 9, 4: 16, 5: 25, 6: 36, 7: 49, 8: 64, 9: 81, 10: 100, 11: 121, 12: 144, 13: 169, 14: 196, 15: 225, 16: 256, 17: 289, 18: 324, 19: 361}\n"
     ]
    }
   ],
   "source": [
    "k1=int(input(\"Enter key:\"))\n",
    "d1={x:x*x for x in range (1,k1+1)}\n",
    "print(d1)"
   ]
  },
  {
   "cell_type": "code",
   "execution_count": 18,
   "metadata": {},
   "outputs": [
    {
     "name": "stdout",
     "output_type": "stream",
     "text": [
      "55\n"
     ]
    }
   ],
   "source": [
    "#Python Program to Sum All the Items in a Dictionary\n",
    "d1={1: 1, 2: 4, 3: 9, 4: 16, 5: 25}\n",
    "total=sum(d1.values())\n",
    "print(total)"
   ]
  },
  {
   "cell_type": "code",
   "execution_count": 20,
   "metadata": {},
   "outputs": [
    {
     "name": "stdout",
     "output_type": "stream",
     "text": [
      "14400\n"
     ]
    }
   ],
   "source": [
    "#Python Program to Multiply All the Items in a Dictionary\n",
    "d1={1: 1, 2: 4, 3: 9, 4: 16, 5: 25}\n",
    "total=1\n",
    "for i in d1:\n",
    "    total=total*d1[i]\n",
    "print(total)"
   ]
  },
  {
   "cell_type": "code",
   "execution_count": 21,
   "metadata": {},
   "outputs": [
    {
     "name": "stdout",
     "output_type": "stream",
     "text": [
      "Enter key:1\n",
      "{2: 4, 3: 9, 4: 16, 5: 25}\n"
     ]
    }
   ],
   "source": [
    "#Python Program to Remove the Given Key from a Dictionary\n",
    "d1={1: 1, 2: 4, 3: 9, 4: 16, 5: 25}\n",
    "k1=int(input(\"Enter key:\"))\n",
    "if k1 in d1:\n",
    "    del d1[k1]\n",
    "else:\n",
    "    print(\"key not found\")\n",
    "print(d1)"
   ]
  },
  {
   "cell_type": "code",
   "execution_count": 22,
   "metadata": {},
   "outputs": [
    {
     "name": "stdout",
     "output_type": "stream",
     "text": [
      "Enter key:6\n",
      "key not found\n",
      "{1: 1, 2: 4, 3: 9, 4: 16, 5: 25}\n"
     ]
    }
   ],
   "source": [
    "d1={1: 1, 2: 4, 3: 9, 4: 16, 5: 25}\n",
    "k1=int(input(\"Enter key:\"))\n",
    "if k1 in d1:\n",
    "    del d1[k1]\n",
    "else:\n",
    "    print(\"key not found\")\n",
    "print(d1)"
   ]
  },
  {
   "cell_type": "code",
   "execution_count": 29,
   "metadata": {},
   "outputs": [
    {
     "name": "stdout",
     "output_type": "stream",
     "text": [
      "Enter the no of elements:3\n",
      "For key\n",
      "enter key:1\n",
      "enter key:2\n",
      "enter key:3\n",
      "For value\n",
      "enter value:1\n",
      "enter value:4\n",
      "enter value:9\n",
      "{1: 1, 2: 4, 3: 9}\n"
     ]
    }
   ],
   "source": [
    "#Python Program to Map Two Lists into a Dictionary\n",
    "k1=[]\n",
    "v1=[]\n",
    "n=int(input(\"Enter the no of elements:\"))\n",
    "print(\"For key\")\n",
    "for x in range(0,n):   \n",
    "    k1.append(int(input(\"enter key:\")))\n",
    "print(\"For value\")\n",
    "for x in range(0,n):   \n",
    "    v1.append(int(input(\"enter value:\")))\n",
    "d1=dict(zip(k1,v1))\n",
    "print(d1)"
   ]
  },
  {
   "cell_type": "code",
   "execution_count": 30,
   "metadata": {},
   "outputs": [
    {
     "name": "stdout",
     "output_type": "stream",
     "text": [
      "Enter the no of elements:2\n",
      "For key\n",
      "enter key:23\n",
      "enter key:46\n",
      "For value\n",
      "enter value:69\n",
      "enter value:138\n",
      "{23: 69, 46: 138}\n"
     ]
    }
   ],
   "source": [
    "k1=[]\n",
    "v1=[]\n",
    "n=int(input(\"Enter the no of elements:\"))\n",
    "print(\"For key\")\n",
    "for x in range(0,n):   \n",
    "    k1.append(int(input(\"enter key:\")))\n",
    "print(\"For value\")\n",
    "for x in range(0,n):   \n",
    "    v1.append(int(input(\"enter value:\")))\n",
    "d1=dict(zip(k1,v1))\n",
    "print(d1)"
   ]
  },
  {
   "cell_type": "code",
   "execution_count": 34,
   "metadata": {},
   "outputs": [
    {
     "name": "stdout",
     "output_type": "stream",
     "text": [
      "Enter String:hello world program\n",
      "{'hello': 1, 'world': 1, 'program': 1}\n"
     ]
    }
   ],
   "source": [
    "#Python Program to Count the Frequency of Words Appearing in a String Using a Dictionary\n",
    "s=input(\"Enter String:\")\n",
    "l=[]\n",
    "l=s.split()\n",
    "w_freq=[l.count(i) for i in l]\n",
    "print(dict(zip(l,w_freq)))"
   ]
  },
  {
   "cell_type": "code",
   "execution_count": 35,
   "metadata": {},
   "outputs": [
    {
     "name": "stdout",
     "output_type": "stream",
     "text": [
      "Enter String:orange banana apple apple orange pineapple\n",
      "{'orange': 2, 'banana': 1, 'apple': 2, 'pineapple': 1}\n"
     ]
    }
   ],
   "source": [
    "s=input(\"Enter String:\")\n",
    "l=[]\n",
    "l=s.split()\n",
    "w_freq=[l.count(i) for i in l]\n",
    "print(dict(zip(l,w_freq)))"
   ]
  },
  {
   "cell_type": "code",
   "execution_count": 36,
   "metadata": {},
   "outputs": [
    {
     "name": "stdout",
     "output_type": "stream",
     "text": [
      "Enter String:Hello world this is a test string sanfoundry\n",
      "H : ['Hello']\n",
      "H : ['Hello']\n",
      "w : ['world']\n",
      "H : ['Hello']\n",
      "w : ['world']\n",
      "t : ['this']\n",
      "H : ['Hello']\n",
      "w : ['world']\n",
      "t : ['this']\n",
      "i : ['is']\n",
      "H : ['Hello']\n",
      "w : ['world']\n",
      "t : ['this']\n",
      "i : ['is']\n",
      "a : ['a']\n",
      "H : ['Hello']\n",
      "w : ['world']\n",
      "t : ['this', 'test']\n",
      "i : ['is']\n",
      "a : ['a']\n",
      "H : ['Hello']\n",
      "w : ['world']\n",
      "t : ['this', 'test']\n",
      "i : ['is']\n",
      "a : ['a']\n",
      "s : ['string']\n",
      "H : ['Hello']\n",
      "w : ['world']\n",
      "t : ['this', 'test']\n",
      "i : ['is']\n",
      "a : ['a']\n",
      "s : ['string', 'sanfoundry']\n"
     ]
    }
   ],
   "source": [
    "#Python Program to Create a Dictionary with Key as First Character and Value as Words Starting with that Character\n",
    "s = input(\"Enter String:\")\n",
    "l = s.split()\n",
    "d = {}\n",
    "for word in l:\n",
    "    if (word[0] not in d.keys()):\n",
    "        d[word[0]]=[]\n",
    "        d[word[0]].append(word)\n",
    "    else:\n",
    "        if(word not in d[word[0]]):\n",
    "            d[word[0]].append(word)\n",
    "    for k,v in d.items():\n",
    "        print(k,\":\",v)"
   ]
  },
  {
   "cell_type": "code",
   "execution_count": 37,
   "metadata": {},
   "outputs": [
    {
     "name": "stdout",
     "output_type": "stream",
     "text": [
      "Enter String:python is my most favourite programming language in the entire world\n",
      "p : ['python']\n",
      "p : ['python']\n",
      "i : ['is']\n",
      "p : ['python']\n",
      "i : ['is']\n",
      "m : ['my']\n",
      "p : ['python']\n",
      "i : ['is']\n",
      "m : ['my', 'most']\n",
      "p : ['python']\n",
      "i : ['is']\n",
      "m : ['my', 'most']\n",
      "f : ['favourite']\n",
      "p : ['python', 'programming']\n",
      "i : ['is']\n",
      "m : ['my', 'most']\n",
      "f : ['favourite']\n",
      "p : ['python', 'programming']\n",
      "i : ['is']\n",
      "m : ['my', 'most']\n",
      "f : ['favourite']\n",
      "l : ['language']\n",
      "p : ['python', 'programming']\n",
      "i : ['is', 'in']\n",
      "m : ['my', 'most']\n",
      "f : ['favourite']\n",
      "l : ['language']\n",
      "p : ['python', 'programming']\n",
      "i : ['is', 'in']\n",
      "m : ['my', 'most']\n",
      "f : ['favourite']\n",
      "l : ['language']\n",
      "t : ['the']\n",
      "p : ['python', 'programming']\n",
      "i : ['is', 'in']\n",
      "m : ['my', 'most']\n",
      "f : ['favourite']\n",
      "l : ['language']\n",
      "t : ['the']\n",
      "e : ['entire']\n",
      "p : ['python', 'programming']\n",
      "i : ['is', 'in']\n",
      "m : ['my', 'most']\n",
      "f : ['favourite']\n",
      "l : ['language']\n",
      "t : ['the']\n",
      "e : ['entire']\n",
      "w : ['world']\n"
     ]
    }
   ],
   "source": [
    "s = input(\"Enter String:\")\n",
    "l = s.split()\n",
    "d = {}\n",
    "for word in l:\n",
    "    if (word[0] not in d.keys()):\n",
    "        d[word[0]]=[]\n",
    "        d[word[0]].append(word)\n",
    "    else:\n",
    "        if(word not in d[word[0]]):\n",
    "            d[word[0]].append(word)\n",
    "    for k,v in d.items():\n",
    "        print(k,\":\",v)"
   ]
  }
 ],
 "metadata": {
  "kernelspec": {
   "display_name": "Python 3",
   "language": "python",
   "name": "python3"
  },
  "language_info": {
   "codemirror_mode": {
    "name": "ipython",
    "version": 3
   },
   "file_extension": ".py",
   "mimetype": "text/x-python",
   "name": "python",
   "nbconvert_exporter": "python",
   "pygments_lexer": "ipython3",
   "version": "3.7.4"
  }
 },
 "nbformat": 4,
 "nbformat_minor": 2
}
